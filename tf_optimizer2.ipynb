{
 "cells": [
  {
   "cell_type": "markdown",
   "metadata": {},
   "source": [
    "# Analytical Parameter Model Optimizer using Tensorflow"
   ]
  },
  {
   "cell_type": "markdown",
   "metadata": {},
   "source": [
    "### Import Statements"
   ]
  },
  {
   "cell_type": "code",
   "execution_count": 1,
   "metadata": {},
   "outputs": [],
   "source": [
    "import pandas as pd\n",
    "import numpy as np\n",
    "import random\n",
    "from numpy.polynomial.hermite import hermgauss\n",
    "from __future__ import print_function\n",
    "import tensorflow as tf\n",
    "\n",
    "import matplotlib\n",
    "import matplotlib.pyplot as plt\n",
    "%matplotlib inline"
   ]
  },
  {
   "cell_type": "markdown",
   "metadata": {},
   "source": [
    "### Initialize DataFrame to store data for EDA"
   ]
  },
  {
   "cell_type": "code",
   "execution_count": 2,
   "metadata": {},
   "outputs": [],
   "source": [
    "tf_parameters = ['step', 'uBA','sbA','uBB','sbB','pA','pb','pc', 'pm','umax','nl',\n",
    "                 'eLJ','uc','cost']\n",
    "df_params = pd.DataFrame(columns = tf_parameters)"
   ]
  },
  {
   "cell_type": "markdown",
   "metadata": {},
   "source": [
    "### Read in Data"
   ]
  },
  {
   "cell_type": "code",
   "execution_count": 3,
   "metadata": {},
   "outputs": [],
   "source": [
    "bedam_data = pd.read_csv(\"sampl4-oah-b7eqnosc.repl.cycle.totE.potE.temp.lambda.ebind.dat\",delim_whitespace=True, \n",
    "                          header=None,names=[\"replica\",\"cycle\",\"totE\",\n",
    "                                             \"potE\",\"temp\",\"Lambda\",\"ebind\"])\n",
    "\n",
    "#ulambda = pandas.read_csv(\"bcd-nabumetone.repl\",delim_whitespace=True, \n",
    "#                          header=None,names=[\"replica\",\"cycle\",\"totE\",\n",
    "#                          \"potE\",\"temp\",\"Lambda\",\"ebind\"])"
   ]
  },
  {
   "cell_type": "code",
   "execution_count": 4,
   "metadata": {},
   "outputs": [
    {
     "data": {
      "text/plain": [
       "replica      int64\n",
       "cycle        int64\n",
       "totE       float64\n",
       "potE       float64\n",
       "temp       float64\n",
       "Lambda     float64\n",
       "ebind      float64\n",
       "dtype: object"
      ]
     },
     "execution_count": 4,
     "metadata": {},
     "output_type": "execute_result"
    }
   ],
   "source": [
    "bedam_data.dtypes"
   ]
  },
  {
   "cell_type": "code",
   "execution_count": 5,
   "metadata": {
    "scrolled": true
   },
   "outputs": [
    {
     "data": {
      "text/html": [
       "<div>\n",
       "<style scoped>\n",
       "    .dataframe tbody tr th:only-of-type {\n",
       "        vertical-align: middle;\n",
       "    }\n",
       "\n",
       "    .dataframe tbody tr th {\n",
       "        vertical-align: top;\n",
       "    }\n",
       "\n",
       "    .dataframe thead th {\n",
       "        text-align: right;\n",
       "    }\n",
       "</style>\n",
       "<table border=\"1\" class=\"dataframe\">\n",
       "  <thead>\n",
       "    <tr style=\"text-align: right;\">\n",
       "      <th></th>\n",
       "      <th>replica</th>\n",
       "      <th>cycle</th>\n",
       "      <th>totE</th>\n",
       "      <th>potE</th>\n",
       "      <th>temp</th>\n",
       "      <th>Lambda</th>\n",
       "      <th>ebind</th>\n",
       "      <th>u</th>\n",
       "    </tr>\n",
       "  </thead>\n",
       "  <tbody>\n",
       "    <tr>\n",
       "      <th>0</th>\n",
       "      <td>0</td>\n",
       "      <td>0</td>\n",
       "      <td>-367.259</td>\n",
       "      <td>-524.748</td>\n",
       "      <td>300.0</td>\n",
       "      <td>0.0</td>\n",
       "      <td>999984.0</td>\n",
       "      <td>1.678389e+06</td>\n",
       "    </tr>\n",
       "    <tr>\n",
       "      <th>1</th>\n",
       "      <td>0</td>\n",
       "      <td>1</td>\n",
       "      <td>-378.435</td>\n",
       "      <td>-536.540</td>\n",
       "      <td>300.0</td>\n",
       "      <td>0.0</td>\n",
       "      <td>980896.0</td>\n",
       "      <td>1.646351e+06</td>\n",
       "    </tr>\n",
       "    <tr>\n",
       "      <th>2</th>\n",
       "      <td>0</td>\n",
       "      <td>2</td>\n",
       "      <td>-353.837</td>\n",
       "      <td>-521.889</td>\n",
       "      <td>300.0</td>\n",
       "      <td>0.0</td>\n",
       "      <td>1000000.0</td>\n",
       "      <td>1.678416e+06</td>\n",
       "    </tr>\n",
       "    <tr>\n",
       "      <th>3</th>\n",
       "      <td>0</td>\n",
       "      <td>3</td>\n",
       "      <td>-379.433</td>\n",
       "      <td>-544.182</td>\n",
       "      <td>300.0</td>\n",
       "      <td>0.0</td>\n",
       "      <td>999869.0</td>\n",
       "      <td>1.678196e+06</td>\n",
       "    </tr>\n",
       "    <tr>\n",
       "      <th>4</th>\n",
       "      <td>0</td>\n",
       "      <td>4</td>\n",
       "      <td>-364.928</td>\n",
       "      <td>-529.571</td>\n",
       "      <td>300.0</td>\n",
       "      <td>0.0</td>\n",
       "      <td>1000000.0</td>\n",
       "      <td>1.678416e+06</td>\n",
       "    </tr>\n",
       "  </tbody>\n",
       "</table>\n",
       "</div>"
      ],
      "text/plain": [
       "   replica  cycle     totE     potE   temp  Lambda      ebind             u\n",
       "0        0      0 -367.259 -524.748  300.0     0.0   999984.0  1.678389e+06\n",
       "1        0      1 -378.435 -536.540  300.0     0.0   980896.0  1.646351e+06\n",
       "2        0      2 -353.837 -521.889  300.0     0.0  1000000.0  1.678416e+06\n",
       "3        0      3 -379.433 -544.182  300.0     0.0   999869.0  1.678196e+06\n",
       "4        0      4 -364.928 -529.571  300.0     0.0  1000000.0  1.678416e+06"
      ]
     },
     "execution_count": 5,
     "metadata": {},
     "output_type": "execute_result"
    }
   ],
   "source": [
    "kT = 1.986e-3*300.0 # [kcal/mol]\n",
    "beta = 1/kT\n",
    "bedam_data['u'] = bedam_data['ebind']*beta\n",
    "bedam_data.head()"
   ]
  },
  {
   "cell_type": "code",
   "execution_count": 6,
   "metadata": {},
   "outputs": [
    {
     "data": {
      "text/html": [
       "<div>\n",
       "<style scoped>\n",
       "    .dataframe tbody tr th:only-of-type {\n",
       "        vertical-align: middle;\n",
       "    }\n",
       "\n",
       "    .dataframe tbody tr th {\n",
       "        vertical-align: top;\n",
       "    }\n",
       "\n",
       "    .dataframe thead th {\n",
       "        text-align: right;\n",
       "    }\n",
       "</style>\n",
       "<table border=\"1\" class=\"dataframe\">\n",
       "  <thead>\n",
       "    <tr style=\"text-align: right;\">\n",
       "      <th></th>\n",
       "      <th>replica</th>\n",
       "      <th>cycle</th>\n",
       "      <th>totE</th>\n",
       "      <th>potE</th>\n",
       "      <th>temp</th>\n",
       "      <th>Lambda</th>\n",
       "      <th>ebind</th>\n",
       "      <th>u</th>\n",
       "      <th>mask</th>\n",
       "    </tr>\n",
       "  </thead>\n",
       "  <tbody>\n",
       "    <tr>\n",
       "      <th>13866</th>\n",
       "      <td>0</td>\n",
       "      <td>677</td>\n",
       "      <td>-366.430</td>\n",
       "      <td>-540.402</td>\n",
       "      <td>300.0</td>\n",
       "      <td>0.17</td>\n",
       "      <td>-1.37125</td>\n",
       "      <td>-2.301527</td>\n",
       "      <td>True</td>\n",
       "    </tr>\n",
       "    <tr>\n",
       "      <th>13867</th>\n",
       "      <td>0</td>\n",
       "      <td>678</td>\n",
       "      <td>-341.743</td>\n",
       "      <td>-518.847</td>\n",
       "      <td>300.0</td>\n",
       "      <td>0.17</td>\n",
       "      <td>-6.76658</td>\n",
       "      <td>-11.357133</td>\n",
       "      <td>True</td>\n",
       "    </tr>\n",
       "    <tr>\n",
       "      <th>13868</th>\n",
       "      <td>0</td>\n",
       "      <td>679</td>\n",
       "      <td>-353.513</td>\n",
       "      <td>-516.050</td>\n",
       "      <td>300.0</td>\n",
       "      <td>0.17</td>\n",
       "      <td>-5.37036</td>\n",
       "      <td>-9.013696</td>\n",
       "      <td>True</td>\n",
       "    </tr>\n",
       "    <tr>\n",
       "      <th>13869</th>\n",
       "      <td>0</td>\n",
       "      <td>680</td>\n",
       "      <td>-370.622</td>\n",
       "      <td>-537.734</td>\n",
       "      <td>300.0</td>\n",
       "      <td>0.17</td>\n",
       "      <td>-8.18494</td>\n",
       "      <td>-13.737731</td>\n",
       "      <td>True</td>\n",
       "    </tr>\n",
       "    <tr>\n",
       "      <th>13870</th>\n",
       "      <td>0</td>\n",
       "      <td>681</td>\n",
       "      <td>-346.630</td>\n",
       "      <td>-518.005</td>\n",
       "      <td>300.0</td>\n",
       "      <td>0.17</td>\n",
       "      <td>3.54029</td>\n",
       "      <td>5.942078</td>\n",
       "      <td>True</td>\n",
       "    </tr>\n",
       "  </tbody>\n",
       "</table>\n",
       "</div>"
      ],
      "text/plain": [
       "       replica  cycle     totE     potE   temp  Lambda    ebind          u  \\\n",
       "13866        0    677 -366.430 -540.402  300.0    0.17 -1.37125  -2.301527   \n",
       "13867        0    678 -341.743 -518.847  300.0    0.17 -6.76658 -11.357133   \n",
       "13868        0    679 -353.513 -516.050  300.0    0.17 -5.37036  -9.013696   \n",
       "13869        0    680 -370.622 -537.734  300.0    0.17 -8.18494 -13.737731   \n",
       "13870        0    681 -346.630 -518.005  300.0    0.17  3.54029   5.942078   \n",
       "\n",
       "       mask  \n",
       "13866  True  \n",
       "13867  True  \n",
       "13868  True  \n",
       "13869  True  \n",
       "13870  True  "
      ]
     },
     "execution_count": 6,
     "metadata": {},
     "output_type": "execute_result"
    }
   ],
   "source": [
    "bedam_data['mask'] = np.logical_and(bedam_data['Lambda'] > 1.e-6, bedam_data['cycle'] > 100)\n",
    "bedam_data.tail()"
   ]
  },
  {
   "cell_type": "code",
   "execution_count": 7,
   "metadata": {},
   "outputs": [
    {
     "data": {
      "text/html": [
       "<div>\n",
       "<style scoped>\n",
       "    .dataframe tbody tr th:only-of-type {\n",
       "        vertical-align: middle;\n",
       "    }\n",
       "\n",
       "    .dataframe tbody tr th {\n",
       "        vertical-align: top;\n",
       "    }\n",
       "\n",
       "    .dataframe thead th {\n",
       "        text-align: right;\n",
       "    }\n",
       "</style>\n",
       "<table border=\"1\" class=\"dataframe\">\n",
       "  <thead>\n",
       "    <tr style=\"text-align: right;\">\n",
       "      <th></th>\n",
       "      <th>replica</th>\n",
       "      <th>cycle</th>\n",
       "      <th>totE</th>\n",
       "      <th>potE</th>\n",
       "      <th>temp</th>\n",
       "      <th>Lambda</th>\n",
       "      <th>ebind</th>\n",
       "      <th>u</th>\n",
       "      <th>mask</th>\n",
       "    </tr>\n",
       "  </thead>\n",
       "  <tbody>\n",
       "    <tr>\n",
       "      <th>101</th>\n",
       "      <td>0</td>\n",
       "      <td>101</td>\n",
       "      <td>-362.832</td>\n",
       "      <td>-519.400</td>\n",
       "      <td>300.0</td>\n",
       "      <td>0.04</td>\n",
       "      <td>4.28490</td>\n",
       "      <td>7.191843</td>\n",
       "      <td>True</td>\n",
       "    </tr>\n",
       "    <tr>\n",
       "      <th>102</th>\n",
       "      <td>0</td>\n",
       "      <td>102</td>\n",
       "      <td>-395.961</td>\n",
       "      <td>-542.808</td>\n",
       "      <td>300.0</td>\n",
       "      <td>0.04</td>\n",
       "      <td>10.12730</td>\n",
       "      <td>16.997818</td>\n",
       "      <td>True</td>\n",
       "    </tr>\n",
       "    <tr>\n",
       "      <th>103</th>\n",
       "      <td>0</td>\n",
       "      <td>103</td>\n",
       "      <td>-383.817</td>\n",
       "      <td>-560.799</td>\n",
       "      <td>300.0</td>\n",
       "      <td>0.04</td>\n",
       "      <td>16.06630</td>\n",
       "      <td>26.965928</td>\n",
       "      <td>True</td>\n",
       "    </tr>\n",
       "    <tr>\n",
       "      <th>104</th>\n",
       "      <td>0</td>\n",
       "      <td>104</td>\n",
       "      <td>-357.445</td>\n",
       "      <td>-524.409</td>\n",
       "      <td>300.0</td>\n",
       "      <td>0.04</td>\n",
       "      <td>-7.81857</td>\n",
       "      <td>-13.122810</td>\n",
       "      <td>True</td>\n",
       "    </tr>\n",
       "    <tr>\n",
       "      <th>105</th>\n",
       "      <td>0</td>\n",
       "      <td>105</td>\n",
       "      <td>-342.067</td>\n",
       "      <td>-508.659</td>\n",
       "      <td>300.0</td>\n",
       "      <td>0.04</td>\n",
       "      <td>14.35490</td>\n",
       "      <td>24.093488</td>\n",
       "      <td>True</td>\n",
       "    </tr>\n",
       "  </tbody>\n",
       "</table>\n",
       "</div>"
      ],
      "text/plain": [
       "     replica  cycle     totE     potE   temp  Lambda     ebind          u  \\\n",
       "101        0    101 -362.832 -519.400  300.0    0.04   4.28490   7.191843   \n",
       "102        0    102 -395.961 -542.808  300.0    0.04  10.12730  16.997818   \n",
       "103        0    103 -383.817 -560.799  300.0    0.04  16.06630  26.965928   \n",
       "104        0    104 -357.445 -524.409  300.0    0.04  -7.81857 -13.122810   \n",
       "105        0    105 -342.067 -508.659  300.0    0.04  14.35490  24.093488   \n",
       "\n",
       "     mask  \n",
       "101  True  \n",
       "102  True  \n",
       "103  True  \n",
       "104  True  \n",
       "105  True  "
      ]
     },
     "execution_count": 7,
     "metadata": {},
     "output_type": "execute_result"
    }
   ],
   "source": [
    "rel_data = bedam_data.loc[bedam_data['mask'] == True]\n",
    "rel_data.head()"
   ]
  },
  {
   "cell_type": "code",
   "execution_count": 8,
   "metadata": {},
   "outputs": [
    {
     "name": "stderr",
     "output_type": "stream",
     "text": [
      "/Users/dkilburg/pyvenv/lib/python3.6/site-packages/ipykernel_launcher.py:1: SettingWithCopyWarning: \n",
      "A value is trying to be set on a copy of a slice from a DataFrame.\n",
      "Try using .loc[row_indexer,col_indexer] = value instead\n",
      "\n",
      "See the caveats in the documentation: http://pandas.pydata.org/pandas-docs/stable/indexing.html#indexing-view-versus-copy\n",
      "  \"\"\"Entry point for launching an IPython kernel.\n",
      "/Users/dkilburg/pyvenv/lib/python3.6/site-packages/ipykernel_launcher.py:2: SettingWithCopyWarning: \n",
      "A value is trying to be set on a copy of a slice from a DataFrame.\n",
      "Try using .loc[row_indexer,col_indexer] = value instead\n",
      "\n",
      "See the caveats in the documentation: http://pandas.pydata.org/pandas-docs/stable/indexing.html#indexing-view-versus-copy\n",
      "  \n",
      "/Users/dkilburg/pyvenv/lib/python3.6/site-packages/ipykernel_launcher.py:3: SettingWithCopyWarning: \n",
      "A value is trying to be set on a copy of a slice from a DataFrame.\n",
      "Try using .loc[row_indexer,col_indexer] = value instead\n",
      "\n",
      "See the caveats in the documentation: http://pandas.pydata.org/pandas-docs/stable/indexing.html#indexing-view-versus-copy\n",
      "  This is separate from the ipykernel package so we can avoid doing imports until\n"
     ]
    },
    {
     "data": {
      "text/plain": [
       "replica      int64\n",
       "cycle        int64\n",
       "totE       float64\n",
       "potE       float64\n",
       "temp       float64\n",
       "Lambda     float32\n",
       "ebind      float64\n",
       "u          float32\n",
       "mask          bool\n",
       "U          float32\n",
       "dtype: object"
      ]
     },
     "execution_count": 8,
     "metadata": {},
     "output_type": "execute_result"
    }
   ],
   "source": [
    "rel_data['u'] = rel_data['u'].astype(np.float32)\n",
    "rel_data['Lambda'] = rel_data['Lambda'].astype(np.float32)\n",
    "rel_data['U'] = rel_data['u']-1.e6*beta # u-umax\n",
    "rel_data.dtypes"
   ]
  },
  {
   "cell_type": "markdown",
   "metadata": {},
   "source": [
    "### Initialize parameters"
   ]
  },
  {
   "cell_type": "code",
   "execution_count": 9,
   "metadata": {},
   "outputs": [],
   "source": [
    "pb = 1.18e-4\n",
    "pc = 3.00e-2\n",
    "uc = 0.5\n",
    "params = {'UBA':tf.constant(-13.953*beta),'SIGBA':tf.constant(1.906*beta),\n",
    "         'UBB':tf.constant(-2.334*beta),'SIGBB':tf.constant(3.238*beta),\n",
    "         'PA':tf.constant(2.45e-4),'E':tf.constant(20.0*beta),\n",
    "         'UC':tf.constant(uc*beta),'NL':tf.Variable(2.96),\n",
    "         'PB':tf.Variable(pb),'PC':tf.Variable(pc)}\n",
    "\n",
    "pi = tf.constant(np.pi, dtype=tf.float32)"
   ]
  },
  {
   "cell_type": "markdown",
   "metadata": {},
   "source": [
    "### Get variables and weights for Hermite-Gauss Approximation"
   ]
  },
  {
   "cell_type": "code",
   "execution_count": 10,
   "metadata": {},
   "outputs": [],
   "source": [
    "x_gauss,w_gauss = hermgauss(15)\n",
    "n_gauss = tf.constant(x_gauss.size, dtype=tf.int32)\n",
    "x_gauss = tf.constant(x_gauss, dtype=tf.float32)\n",
    "w_gauss = tf.constant(w_gauss, dtype=tf.float32)"
   ]
  },
  {
   "cell_type": "code",
   "execution_count": 11,
   "metadata": {},
   "outputs": [],
   "source": [
    "u = tf.constant(rel_data['u'])\n",
    "lambdas = tf.constant(rel_data['Lambda'])\n"
   ]
  },
  {
   "cell_type": "markdown",
   "metadata": {},
   "source": [
    "### Gaussian mixture for B for all binding energies\n",
    "\n",
    "gauss_bA = $\\frac{1}{\\sqrt{2\\pi}\\sigma_{BA}}e^{\\frac{-(u-u_{BA})^2}{2\\sigma_{BA}^2}}$ \n",
    "<br>\n",
    "gauss_bB = $\\frac{1}{\\sqrt{2\\pi}\\sigma_{BB}}e^{\\frac{-(u-u_{BB})^2}{2\\sigma_{BB}^2}}$ \n",
    "<br>\n",
    "gauss_b = $P_A *\\frac{1}{\\sqrt{2\\pi}\\sigma_{BA}}e^{\\frac{-(u-u_{BA})^2}{2\\sigma_{BA}^2}} + (1-P_A)*\\frac{1}{\\sqrt{2\\pi}\\sigma_{BB}}e^{\\frac{-(u-u_{BB})^2}{2\\sigma_{BB}^2}}$"
   ]
  },
  {
   "cell_type": "code",
   "execution_count": 12,
   "metadata": {},
   "outputs": [],
   "source": [
    "gauss_bA = tf.exp(-tf.pow(u-params['UBA'],2)/(2.0*tf.pow(params['SIGBA'],2)))/(tf.sqrt(2.*pi)*params['SIGBA'])\n",
    "gauss_bB = tf.exp(-tf.pow(u-params['UBB'],2)/(2.0*tf.pow(params['SIGBB'],2)))/(tf.sqrt(2.*pi)*params['SIGBB'])\n",
    "gauss_b = params['PA']*gauss_bA + gauss_bB - params['PA']*gauss_bB"
   ]
  },
  {
   "cell_type": "markdown",
   "metadata": {},
   "source": [
    "### Gaussian for energies at large distances where U -> u-umax where umax = $10^6/kT$\n",
    "\n",
    "gauss_bA_far = $\\frac{1}{\\sqrt{2\\pi}\\sigma_{BA}}e^{\\frac{-(U-u_{BA})^2}{2\\sigma_{BA}^2}}$ \n",
    "<br>\n",
    "gauss_bB_far = $\\frac{1}{\\sqrt{2\\pi}\\sigma_{BB}}e^{\\frac{-(U-u_{BB})^2}{2\\sigma_{BB}^2}}$ \n",
    "<br>\n",
    "gauss_b_far = $P_A *\\frac{1}{\\sqrt{2\\pi}\\sigma_{BA}}e^{\\frac{-(U-u_{BA})^2}{2\\sigma_{BA}^2}} + (1-P_A)*\\frac{1}{\\sqrt{2\\pi}\\sigma_{BB}}e^{\\frac{-(U-u_{BB})^2}{2\\sigma_{BB}^2}}$"
   ]
  },
  {
   "cell_type": "code",
   "execution_count": 13,
   "metadata": {},
   "outputs": [],
   "source": [
    "U = tf.constant(rel_data['U'])\n",
    "\n",
    "gauss_bA_far = tf.exp(-tf.pow(U-params['UBA'],2)/(2.0*tf.pow(params['SIGBA'],2)))/(tf.sqrt(2.*pi)*params['SIGBA'])\n",
    "gauss_bB_far = tf.exp(-tf.pow(U-params['UBB'],2)/(2.0*tf.pow(params['SIGBB'],2)))/(tf.sqrt(2.*pi)*params['SIGBB'])\n",
    "gauss_b_far = params['PA']*gauss_bA_far + gauss_bB_far - params['PA']*gauss_bB_far\n"
   ]
  },
  {
   "cell_type": "markdown",
   "metadata": {},
   "source": [
    "### Convolution of gaussian (mixture) and pwca\n",
    "\n",
    "pwca = $n_L * \\left[1-\\frac{\\sqrt{1+\\hat{x}_c}}{\\sqrt{1+x}} \\right]^{n_L-1}*\\frac{Heaviside(u_c-\\hat{u}_c)\\sqrt{1+\\hat{x}_c}}{4\\epsilon_{LJ}x(1+x)^{3/2}}$ <br>\n",
    "where <br>\n",
    "$x = \\sqrt{u_c/\\epsilon_{LJ}}$ <br>\n",
    "$\\hat{x}_c = \\sqrt{\\hat{u}_c/\\epsilon_{LJ}}$\n",
    "\n",
    "#### Assuming statistical independence of the background and collisional energies, the probability density of the total binding energy is given by $P_0$ which is the convolution of their respective probability densities\n",
    "\n",
    "$P_0 = p_B*g(u) + p_m*g(U) + p_c \\int_{u_c}^\\infty pwca(u')g(u-u')du'$"
   ]
  },
  {
   "cell_type": "code",
   "execution_count": 14,
   "metadata": {},
   "outputs": [],
   "source": [
    "a = uc*beta\n",
    "umax = 1.e6*beta\n",
    "ymax = np.log(umax)/a # \n",
    "dy = ymax/100.0\n",
    "xasymp = np.float32(np.exp(a*np.arange(0.,ymax,dy)) - 1.) + 1.e-6\n",
    "dxasymp = np.float32(xasymp[1:] - xasymp[:-1])\n",
    "xasymp = np.float32(xasymp[:-1])\n",
    "\n",
    "nx = tf.constant(dxasymp.size, dtype=tf.int32)\n",
    "xasymp = tf.constant(xasymp, dtype=tf.float32)\n",
    "dxasymp = tf.constant(dxasymp, dtype=tf.float32)\n",
    "\n",
    "\n",
    "pm = tf.constant(1. - pb - pc)\n",
    "xc = tf.sqrt(params['UC']/params['E'])\n",
    "a = tf.sqrt(1.+xc)\n",
    "eps = xc/10.\n",
    "xm = tf.sqrt(umax/params['E'])\n",
    "nm = tf.pow(1. - params['NL']*a/xm, -1)\n"
   ]
  },
  {
   "cell_type": "code",
   "execution_count": 15,
   "metadata": {},
   "outputs": [],
   "source": [
    "sq2 = tf.sqrt(2.)\n",
    "#Pwca for all input y's\n",
    "yA = sq2*params['SIGBA']*x_gauss + u[:,None] - params['UBA']\n",
    "x1A = tf.pow(yA/params['E'],2) #to make x positive\n",
    "xA  = tf.pow( x1A , 0.25 )\n",
    "bA = tf.sqrt(1.+ xA)\n",
    "z1A = tf.tanh( tf.pow(a/bA,12.) )\n",
    "zA = tf.pow( z1A, 1./12. ) #caps z to 1\n",
    "fcore2A = tf.pow((1.-zA), params['NL']-1.)\n",
    "fcore3A = a/((xA+eps)*tf.pow(bA,3)*4.*params['E'])\n",
    "fcore4A = tf.sigmoid(20.*(yA-0.5*params['UC'])/params['UC'])\n",
    "pwcaA = nm*params['NL']*fcore2A*fcore3A*fcore4A\n",
    "#---\n",
    "qA = tf.matmul(pwcaA,tf.reshape(w_gauss,[n_gauss,1]))/tf.sqrt(pi)\n",
    "q2A = qA[:,0]\n",
    "\n",
    "yB = sq2*params['SIGBB']*x_gauss + u[:,None] - params['UBB']\n",
    "x1B = tf.pow(yB/params['E'],2) #to make x positive\n",
    "xB  = tf.pow( x1B , 0.25 )\n",
    "bB = tf.sqrt(1.+ xB)\n",
    "z1B = tf.tanh( tf.pow(a/bB,12.) )\n",
    "zB = tf.pow( z1B, 1./12. ) #caps z to 1\n",
    "fcore2B = tf.pow((1.-zB), params['NL']-1.)\n",
    "fcore3B = a/((xB+eps)*tf.pow(bB,3)*4.*params['E'])\n",
    "fcore4B = tf.sigmoid(20.*(yB-0.5*params['UC'])/params['UC'])\n",
    "pwcaB = nm*params['NL']*fcore2B*fcore3B*fcore4B\n",
    "#---\n",
    "qB = tf.matmul(pwcaB,tf.reshape(w_gauss,[n_gauss,1]))/tf.sqrt(pi)\n",
    "q2B = qB[:,0]\n",
    "\n",
    "q2 = params['PA']*q2A + q2B - params['PA']*q2B\n",
    "\n",
    "#p0's\n",
    "p0 = params['PB']*gauss_b + params['PC']*q2 + pm*gauss_b_far\n",
    "\n"
   ]
  },
  {
   "cell_type": "markdown",
   "metadata": {},
   "source": [
    "### Model for the free energy profile"
   ]
  },
  {
   "cell_type": "code",
   "execution_count": 16,
   "metadata": {},
   "outputs": [],
   "source": [
    "#kB1\n",
    "klBA = tf.exp(0.5*tf.pow(params['SIGBA'],2)*tf.pow(lambdas,2) - lambdas*params['UBA'])\n",
    "klBB = tf.exp(0.5*tf.pow(params['SIGBB'],2)*tf.pow(lambdas,2) - lambdas*params['UBB']) \n",
    "klB1 = params['PA']*klBA + klBB - params['PA']*klBB\n",
    "\n",
    "#pwca for the x grid\n",
    "x1_s = tf.pow(xasymp/params['E'],2) #to make x positive\n",
    "x_s  = tf.pow( x1_s , 0.25 )\n",
    "b_s = tf.sqrt(1.+ x_s)\n",
    "z1_s = tf.tanh( tf.pow(a/b_s,12.) )\n",
    "z_s = tf.pow( z1_s, 1./12. ) #caps z to 1\n",
    "fcore2_s = tf.pow((1.-z_s), params['NL']-1.)\n",
    "fcore3_s = a/((x_s+eps)*tf.pow(b_s,3)*4.*params['E'])\n",
    "fcore4_s = tf.sigmoid(20.*(xasymp-0.5*params['UC'])/params['UC'])\n",
    "pwca_s = nm*params['NL']*fcore2_s*fcore3_s*fcore4_s\n",
    "\n",
    "#kwca\n",
    "fsamples = dxasymp*pwca_s\n",
    "expl = tf.exp(- xasymp * lambdas[:,None])\n",
    "q_C = tf.matmul(expl,tf.reshape(fsamples,[nx,1]))\n",
    "klwca = q_C[:,0]\n",
    "\n",
    "#free energies\n",
    "e2 = tf.exp(-1.e6*beta * lambdas)\n",
    "klC = params['PB'] + e2 - params['PC']*e2 - params['PB']*e2 + params['PC'] * klwca\n",
    "kl = klB1*klC\n",
    "pkl = p0/kl\n",
    "\n",
    "#cost function\n",
    "cost = -tf.reduce_sum(tf.log(pkl))"
   ]
  },
  {
   "cell_type": "markdown",
   "metadata": {},
   "source": [
    "### Initialize and start tensorflow optimizer session"
   ]
  },
  {
   "cell_type": "code",
   "execution_count": 17,
   "metadata": {},
   "outputs": [
    {
     "name": "stdout",
     "output_type": "stream",
     "text": [
      "----- End of optimization --------\n",
      "best x:  uBA = -13.952999662399291 sbA = 1.90600006814003 uBB = -2.3340000610828397 sbB = 3.2379999492645264 pA = 0.000245 pb =  0.00012045118 pc = 0.030114807 pm =  0.969882 umax =  1678415.5756965424 nl =  2.96014 eLJ =  19.9999989692688 uc =  0.4999999884366989 cost = 128296.28\n"
     ]
    }
   ],
   "source": [
    "optimizer = tf.train.AdamOptimizer(2.e-4)\n",
    "\n",
    "train = optimizer.minimize(cost)\n",
    "\n",
    "init = tf.global_variables_initializer()\n",
    "\n",
    "gradient_cost = optimizer.compute_gradients(cost)\n",
    "\n",
    "\n",
    "with tf.Session() as sess:\n",
    "    \n",
    "    sess.run(init)\n",
    "    ll = sess.run(cost)\n",
    "\n",
    "    best_loss = ll\n",
    "    best_ubA = sess.run(params['UBA'])\n",
    "    best_sbA = sess.run(params['SIGBA'])\n",
    "    best_ubB = sess.run(params['UBB'])\n",
    "    best_sbB = sess.run(params['SIGBB'])\n",
    "    best_pA = sess.run(params['PA'])\n",
    "    best_pb = sess.run(params['PB'])\n",
    "    best_pc = sess.run(params['PC'])\n",
    "    best_nl = sess.run(params['NL'])\n",
    "    best_elj = sess.run(params['E'])\n",
    "    best_uc = sess.run(params['UC'])   \n",
    "    for step in range(100):\n",
    "        sess.run(train)\n",
    "        ll = sess.run(cost)\n",
    "        lubA = sess.run(params['UBA'])\n",
    "        lsbA = sess.run(params['SIGBA'])\n",
    "        lubB = sess.run(params['UBB'])\n",
    "        lsbB = sess.run(params['SIGBB'])\n",
    "        lpA =  sess.run(params['PA'])\n",
    "        lpb = sess.run(params['PB'])\n",
    "        lpc = sess.run(params['PC'])\n",
    "        lnl = sess.run(params['NL'])\n",
    "        lelj = sess.run(params['E'])\n",
    "        luc = sess.run(params['UC'])                     \n",
    "        if( ll < best_loss ):\n",
    "            best_loss = ll\n",
    "            best_ubA = lubA\n",
    "            best_sbA = lsbA\n",
    "            best_ubB = lubB\n",
    "            best_sbB = lsbB\n",
    "            best_pA = lpA\n",
    "            best_pb = lpb\n",
    "            best_pc = lpc\n",
    "            best_nl = lnl\n",
    "            best_elj = lelj\n",
    "            best_uc = luc\n",
    "      \n",
    "        df_params = df_params.append({'step':step,'uBA':lubA*kT,'sbA':lsbA*kT,\n",
    "                                           'uBB':lubB*kT,'sbB':lsbB*kT,'pA':lpA,'pb':lpb,\n",
    "                                           'pc':lpc,'pm':1.0-pb-pc,'umax':umax,'nl':lnl,'eLJ':lelj*kT,\n",
    "                                           'uc':luc*kT,'cost':ll},ignore_index=True)\n",
    "\n",
    "    print(\"----- End of optimization --------\");\n",
    "    print(\"best\", \"x:\", \" uBA =\", best_ubA*kT, \"sbA =\", best_sbA*kT, \"uBB =\", best_ubB*kT, \"sbB =\", best_sbB*kT, \"pA =\", best_pA, \"pb = \", best_pb, \"pc =\", best_pc, \"pm = \", 1.0-pb-pc, \"umax = \", umax, \"nl = \", best_nl, \"eLJ = \", best_elj*kT, \"uc = \", best_uc*kT, \"cost =\", best_loss)\n",
    "\n"
   ]
  },
  {
   "cell_type": "code",
   "execution_count": 18,
   "metadata": {},
   "outputs": [
    {
     "data": {
      "text/html": [
       "<div>\n",
       "<style scoped>\n",
       "    .dataframe tbody tr th:only-of-type {\n",
       "        vertical-align: middle;\n",
       "    }\n",
       "\n",
       "    .dataframe tbody tr th {\n",
       "        vertical-align: top;\n",
       "    }\n",
       "\n",
       "    .dataframe thead th {\n",
       "        text-align: right;\n",
       "    }\n",
       "</style>\n",
       "<table border=\"1\" class=\"dataframe\">\n",
       "  <thead>\n",
       "    <tr style=\"text-align: right;\">\n",
       "      <th></th>\n",
       "      <th>step</th>\n",
       "      <th>uBA</th>\n",
       "      <th>sbA</th>\n",
       "      <th>uBB</th>\n",
       "      <th>sbB</th>\n",
       "      <th>pA</th>\n",
       "      <th>pb</th>\n",
       "      <th>pc</th>\n",
       "      <th>pm</th>\n",
       "      <th>umax</th>\n",
       "      <th>nl</th>\n",
       "      <th>eLJ</th>\n",
       "      <th>uc</th>\n",
       "      <th>cost</th>\n",
       "    </tr>\n",
       "  </thead>\n",
       "  <tbody>\n",
       "    <tr>\n",
       "      <th>0</th>\n",
       "      <td>0.0</td>\n",
       "      <td>-13.953</td>\n",
       "      <td>1.906</td>\n",
       "      <td>-2.334</td>\n",
       "      <td>3.238</td>\n",
       "      <td>0.000245</td>\n",
       "      <td>0.000318</td>\n",
       "      <td>0.029800</td>\n",
       "      <td>0.969882</td>\n",
       "      <td>1.678416e+06</td>\n",
       "      <td>2.960200</td>\n",
       "      <td>19.999999</td>\n",
       "      <td>0.5</td>\n",
       "      <td>128575.875000</td>\n",
       "    </tr>\n",
       "    <tr>\n",
       "      <th>1</th>\n",
       "      <td>1.0</td>\n",
       "      <td>-13.953</td>\n",
       "      <td>1.906</td>\n",
       "      <td>-2.334</td>\n",
       "      <td>3.238</td>\n",
       "      <td>0.000245</td>\n",
       "      <td>0.000173</td>\n",
       "      <td>0.029948</td>\n",
       "      <td>0.969882</td>\n",
       "      <td>1.678416e+06</td>\n",
       "      <td>2.960131</td>\n",
       "      <td>19.999999</td>\n",
       "      <td>0.5</td>\n",
       "      <td>128332.796875</td>\n",
       "    </tr>\n",
       "    <tr>\n",
       "      <th>2</th>\n",
       "      <td>2.0</td>\n",
       "      <td>-13.953</td>\n",
       "      <td>1.906</td>\n",
       "      <td>-2.334</td>\n",
       "      <td>3.238</td>\n",
       "      <td>0.000245</td>\n",
       "      <td>0.000010</td>\n",
       "      <td>0.030096</td>\n",
       "      <td>0.969882</td>\n",
       "      <td>1.678416e+06</td>\n",
       "      <td>2.960076</td>\n",
       "      <td>19.999999</td>\n",
       "      <td>0.5</td>\n",
       "      <td>129267.085938</td>\n",
       "    </tr>\n",
       "    <tr>\n",
       "      <th>3</th>\n",
       "      <td>3.0</td>\n",
       "      <td>-13.953</td>\n",
       "      <td>1.906</td>\n",
       "      <td>-2.334</td>\n",
       "      <td>3.238</td>\n",
       "      <td>0.000245</td>\n",
       "      <td>0.000120</td>\n",
       "      <td>0.030115</td>\n",
       "      <td>0.969882</td>\n",
       "      <td>1.678416e+06</td>\n",
       "      <td>2.960140</td>\n",
       "      <td>19.999999</td>\n",
       "      <td>0.5</td>\n",
       "      <td>128296.281250</td>\n",
       "    </tr>\n",
       "    <tr>\n",
       "      <th>4</th>\n",
       "      <td>4.0</td>\n",
       "      <td>-13.953</td>\n",
       "      <td>1.906</td>\n",
       "      <td>-2.334</td>\n",
       "      <td>3.238</td>\n",
       "      <td>0.000245</td>\n",
       "      <td>0.000214</td>\n",
       "      <td>0.030131</td>\n",
       "      <td>0.969882</td>\n",
       "      <td>1.678416e+06</td>\n",
       "      <td>2.960221</td>\n",
       "      <td>19.999999</td>\n",
       "      <td>0.5</td>\n",
       "      <td>128388.312500</td>\n",
       "    </tr>\n",
       "  </tbody>\n",
       "</table>\n",
       "</div>"
      ],
      "text/plain": [
       "   step     uBA    sbA    uBB    sbB        pA        pb        pc        pm  \\\n",
       "0   0.0 -13.953  1.906 -2.334  3.238  0.000245  0.000318  0.029800  0.969882   \n",
       "1   1.0 -13.953  1.906 -2.334  3.238  0.000245  0.000173  0.029948  0.969882   \n",
       "2   2.0 -13.953  1.906 -2.334  3.238  0.000245  0.000010  0.030096  0.969882   \n",
       "3   3.0 -13.953  1.906 -2.334  3.238  0.000245  0.000120  0.030115  0.969882   \n",
       "4   4.0 -13.953  1.906 -2.334  3.238  0.000245  0.000214  0.030131  0.969882   \n",
       "\n",
       "           umax        nl        eLJ   uc           cost  \n",
       "0  1.678416e+06  2.960200  19.999999  0.5  128575.875000  \n",
       "1  1.678416e+06  2.960131  19.999999  0.5  128332.796875  \n",
       "2  1.678416e+06  2.960076  19.999999  0.5  129267.085938  \n",
       "3  1.678416e+06  2.960140  19.999999  0.5  128296.281250  \n",
       "4  1.678416e+06  2.960221  19.999999  0.5  128388.312500  "
      ]
     },
     "execution_count": 18,
     "metadata": {},
     "output_type": "execute_result"
    }
   ],
   "source": [
    "df_params.head()"
   ]
  },
  {
   "cell_type": "code",
   "execution_count": 19,
   "metadata": {},
   "outputs": [
    {
     "data": {
      "text/html": [
       "<div>\n",
       "<style scoped>\n",
       "    .dataframe tbody tr th:only-of-type {\n",
       "        vertical-align: middle;\n",
       "    }\n",
       "\n",
       "    .dataframe tbody tr th {\n",
       "        vertical-align: top;\n",
       "    }\n",
       "\n",
       "    .dataframe thead th {\n",
       "        text-align: right;\n",
       "    }\n",
       "</style>\n",
       "<table border=\"1\" class=\"dataframe\">\n",
       "  <thead>\n",
       "    <tr style=\"text-align: right;\">\n",
       "      <th></th>\n",
       "      <th>step</th>\n",
       "      <th>uBA</th>\n",
       "      <th>sbA</th>\n",
       "      <th>uBB</th>\n",
       "      <th>sbB</th>\n",
       "      <th>pA</th>\n",
       "      <th>pb</th>\n",
       "      <th>pc</th>\n",
       "      <th>pm</th>\n",
       "      <th>umax</th>\n",
       "      <th>nl</th>\n",
       "      <th>eLJ</th>\n",
       "      <th>uc</th>\n",
       "      <th>cost</th>\n",
       "    </tr>\n",
       "  </thead>\n",
       "  <tbody>\n",
       "    <tr>\n",
       "      <th>95</th>\n",
       "      <td>95.0</td>\n",
       "      <td>-13.953</td>\n",
       "      <td>1.906</td>\n",
       "      <td>-2.334</td>\n",
       "      <td>3.238</td>\n",
       "      <td>0.000245</td>\n",
       "      <td>0.000147</td>\n",
       "      <td>0.037577</td>\n",
       "      <td>0.969882</td>\n",
       "      <td>1.678416e+06</td>\n",
       "      <td>2.958119</td>\n",
       "      <td>19.999999</td>\n",
       "      <td>0.5</td>\n",
       "      <td>128296.750000</td>\n",
       "    </tr>\n",
       "    <tr>\n",
       "      <th>96</th>\n",
       "      <td>96.0</td>\n",
       "      <td>-13.953</td>\n",
       "      <td>1.906</td>\n",
       "      <td>-2.334</td>\n",
       "      <td>3.238</td>\n",
       "      <td>0.000245</td>\n",
       "      <td>0.000149</td>\n",
       "      <td>0.037575</td>\n",
       "      <td>0.969882</td>\n",
       "      <td>1.678416e+06</td>\n",
       "      <td>2.958226</td>\n",
       "      <td>19.999999</td>\n",
       "      <td>0.5</td>\n",
       "      <td>128296.726562</td>\n",
       "    </tr>\n",
       "    <tr>\n",
       "      <th>97</th>\n",
       "      <td>97.0</td>\n",
       "      <td>-13.953</td>\n",
       "      <td>1.906</td>\n",
       "      <td>-2.334</td>\n",
       "      <td>3.238</td>\n",
       "      <td>0.000245</td>\n",
       "      <td>0.000151</td>\n",
       "      <td>0.037574</td>\n",
       "      <td>0.969882</td>\n",
       "      <td>1.678416e+06</td>\n",
       "      <td>2.958334</td>\n",
       "      <td>19.999999</td>\n",
       "      <td>0.5</td>\n",
       "      <td>128296.687500</td>\n",
       "    </tr>\n",
       "    <tr>\n",
       "      <th>98</th>\n",
       "      <td>98.0</td>\n",
       "      <td>-13.953</td>\n",
       "      <td>1.906</td>\n",
       "      <td>-2.334</td>\n",
       "      <td>3.238</td>\n",
       "      <td>0.000245</td>\n",
       "      <td>0.000152</td>\n",
       "      <td>0.037573</td>\n",
       "      <td>0.969882</td>\n",
       "      <td>1.678416e+06</td>\n",
       "      <td>2.958442</td>\n",
       "      <td>19.999999</td>\n",
       "      <td>0.5</td>\n",
       "      <td>128296.726562</td>\n",
       "    </tr>\n",
       "    <tr>\n",
       "      <th>99</th>\n",
       "      <td>99.0</td>\n",
       "      <td>-13.953</td>\n",
       "      <td>1.906</td>\n",
       "      <td>-2.334</td>\n",
       "      <td>3.238</td>\n",
       "      <td>0.000245</td>\n",
       "      <td>0.000153</td>\n",
       "      <td>0.037572</td>\n",
       "      <td>0.969882</td>\n",
       "      <td>1.678416e+06</td>\n",
       "      <td>2.958550</td>\n",
       "      <td>19.999999</td>\n",
       "      <td>0.5</td>\n",
       "      <td>128296.750000</td>\n",
       "    </tr>\n",
       "  </tbody>\n",
       "</table>\n",
       "</div>"
      ],
      "text/plain": [
       "    step     uBA    sbA    uBB    sbB        pA        pb        pc        pm  \\\n",
       "95  95.0 -13.953  1.906 -2.334  3.238  0.000245  0.000147  0.037577  0.969882   \n",
       "96  96.0 -13.953  1.906 -2.334  3.238  0.000245  0.000149  0.037575  0.969882   \n",
       "97  97.0 -13.953  1.906 -2.334  3.238  0.000245  0.000151  0.037574  0.969882   \n",
       "98  98.0 -13.953  1.906 -2.334  3.238  0.000245  0.000152  0.037573  0.969882   \n",
       "99  99.0 -13.953  1.906 -2.334  3.238  0.000245  0.000153  0.037572  0.969882   \n",
       "\n",
       "            umax        nl        eLJ   uc           cost  \n",
       "95  1.678416e+06  2.958119  19.999999  0.5  128296.750000  \n",
       "96  1.678416e+06  2.958226  19.999999  0.5  128296.726562  \n",
       "97  1.678416e+06  2.958334  19.999999  0.5  128296.687500  \n",
       "98  1.678416e+06  2.958442  19.999999  0.5  128296.726562  \n",
       "99  1.678416e+06  2.958550  19.999999  0.5  128296.750000  "
      ]
     },
     "execution_count": 19,
     "metadata": {},
     "output_type": "execute_result"
    }
   ],
   "source": [
    "df_params.tail()"
   ]
  },
  {
   "cell_type": "code",
   "execution_count": 20,
   "metadata": {},
   "outputs": [
    {
     "data": {
      "text/html": [
       "<div>\n",
       "<style scoped>\n",
       "    .dataframe tbody tr th:only-of-type {\n",
       "        vertical-align: middle;\n",
       "    }\n",
       "\n",
       "    .dataframe tbody tr th {\n",
       "        vertical-align: top;\n",
       "    }\n",
       "\n",
       "    .dataframe thead th {\n",
       "        text-align: right;\n",
       "    }\n",
       "</style>\n",
       "<table border=\"1\" class=\"dataframe\">\n",
       "  <thead>\n",
       "    <tr style=\"text-align: right;\">\n",
       "      <th></th>\n",
       "      <th>step</th>\n",
       "      <th>uBA</th>\n",
       "      <th>sbA</th>\n",
       "      <th>uBB</th>\n",
       "      <th>sbB</th>\n",
       "      <th>pA</th>\n",
       "      <th>pb</th>\n",
       "      <th>pc</th>\n",
       "      <th>pm</th>\n",
       "      <th>umax</th>\n",
       "      <th>nl</th>\n",
       "      <th>eLJ</th>\n",
       "      <th>uc</th>\n",
       "      <th>cost</th>\n",
       "    </tr>\n",
       "  </thead>\n",
       "  <tbody>\n",
       "    <tr>\n",
       "      <th>count</th>\n",
       "      <td>100.000000</td>\n",
       "      <td>1.000000e+02</td>\n",
       "      <td>1.000000e+02</td>\n",
       "      <td>1.000000e+02</td>\n",
       "      <td>1.000000e+02</td>\n",
       "      <td>100.000000</td>\n",
       "      <td>100.000000</td>\n",
       "      <td>100.000000</td>\n",
       "      <td>1.000000e+02</td>\n",
       "      <td>1.000000e+02</td>\n",
       "      <td>100.000000</td>\n",
       "      <td>100.000000</td>\n",
       "      <td>1.000000e+02</td>\n",
       "      <td>100.000000</td>\n",
       "    </tr>\n",
       "    <tr>\n",
       "      <th>mean</th>\n",
       "      <td>49.500000</td>\n",
       "      <td>-1.395300e+01</td>\n",
       "      <td>1.906000e+00</td>\n",
       "      <td>-2.334000e+00</td>\n",
       "      <td>3.238000e+00</td>\n",
       "      <td>0.000245</td>\n",
       "      <td>0.000249</td>\n",
       "      <td>0.035538</td>\n",
       "      <td>9.698820e-01</td>\n",
       "      <td>1.678416e+06</td>\n",
       "      <td>2.956759</td>\n",
       "      <td>19.999999</td>\n",
       "      <td>5.000000e-01</td>\n",
       "      <td>128467.245313</td>\n",
       "    </tr>\n",
       "    <tr>\n",
       "      <th>std</th>\n",
       "      <td>29.011492</td>\n",
       "      <td>5.355917e-15</td>\n",
       "      <td>2.231632e-16</td>\n",
       "      <td>4.463264e-16</td>\n",
       "      <td>4.463264e-16</td>\n",
       "      <td>0.000000</td>\n",
       "      <td>0.000162</td>\n",
       "      <td>0.002587</td>\n",
       "      <td>1.115816e-16</td>\n",
       "      <td>4.680072e-10</td>\n",
       "      <td>0.001840</td>\n",
       "      <td>0.000000</td>\n",
       "      <td>5.579081e-17</td>\n",
       "      <td>259.541341</td>\n",
       "    </tr>\n",
       "    <tr>\n",
       "      <th>min</th>\n",
       "      <td>0.000000</td>\n",
       "      <td>-1.395300e+01</td>\n",
       "      <td>1.906000e+00</td>\n",
       "      <td>-2.334000e+00</td>\n",
       "      <td>3.238000e+00</td>\n",
       "      <td>0.000245</td>\n",
       "      <td>0.000010</td>\n",
       "      <td>0.029800</td>\n",
       "      <td>9.698820e-01</td>\n",
       "      <td>1.678416e+06</td>\n",
       "      <td>2.954426</td>\n",
       "      <td>19.999999</td>\n",
       "      <td>5.000000e-01</td>\n",
       "      <td>128296.281250</td>\n",
       "    </tr>\n",
       "    <tr>\n",
       "      <th>25%</th>\n",
       "      <td>24.750000</td>\n",
       "      <td>-1.395300e+01</td>\n",
       "      <td>1.906000e+00</td>\n",
       "      <td>-2.334000e+00</td>\n",
       "      <td>3.238000e+00</td>\n",
       "      <td>0.000245</td>\n",
       "      <td>0.000144</td>\n",
       "      <td>0.033872</td>\n",
       "      <td>9.698820e-01</td>\n",
       "      <td>1.678416e+06</td>\n",
       "      <td>2.955099</td>\n",
       "      <td>19.999999</td>\n",
       "      <td>5.000000e-01</td>\n",
       "      <td>128298.095703</td>\n",
       "    </tr>\n",
       "    <tr>\n",
       "      <th>50%</th>\n",
       "      <td>49.500000</td>\n",
       "      <td>-1.395300e+01</td>\n",
       "      <td>1.906000e+00</td>\n",
       "      <td>-2.334000e+00</td>\n",
       "      <td>3.238000e+00</td>\n",
       "      <td>0.000245</td>\n",
       "      <td>0.000164</td>\n",
       "      <td>0.036954</td>\n",
       "      <td>9.698820e-01</td>\n",
       "      <td>1.678416e+06</td>\n",
       "      <td>2.956442</td>\n",
       "      <td>19.999999</td>\n",
       "      <td>5.000000e-01</td>\n",
       "      <td>128310.429688</td>\n",
       "    </tr>\n",
       "    <tr>\n",
       "      <th>75%</th>\n",
       "      <td>74.250000</td>\n",
       "      <td>-1.395300e+01</td>\n",
       "      <td>1.906000e+00</td>\n",
       "      <td>-2.334000e+00</td>\n",
       "      <td>3.238000e+00</td>\n",
       "      <td>0.000245</td>\n",
       "      <td>0.000347</td>\n",
       "      <td>0.037499</td>\n",
       "      <td>9.698820e-01</td>\n",
       "      <td>1.678416e+06</td>\n",
       "      <td>2.958041</td>\n",
       "      <td>19.999999</td>\n",
       "      <td>5.000000e-01</td>\n",
       "      <td>128585.939453</td>\n",
       "    </tr>\n",
       "    <tr>\n",
       "      <th>max</th>\n",
       "      <td>99.000000</td>\n",
       "      <td>-1.395300e+01</td>\n",
       "      <td>1.906000e+00</td>\n",
       "      <td>-2.334000e+00</td>\n",
       "      <td>3.238000e+00</td>\n",
       "      <td>0.000245</td>\n",
       "      <td>0.000590</td>\n",
       "      <td>0.037579</td>\n",
       "      <td>9.698820e-01</td>\n",
       "      <td>1.678416e+06</td>\n",
       "      <td>2.960273</td>\n",
       "      <td>19.999999</td>\n",
       "      <td>5.000000e-01</td>\n",
       "      <td>129267.085938</td>\n",
       "    </tr>\n",
       "  </tbody>\n",
       "</table>\n",
       "</div>"
      ],
      "text/plain": [
       "             step           uBA           sbA           uBB           sbB  \\\n",
       "count  100.000000  1.000000e+02  1.000000e+02  1.000000e+02  1.000000e+02   \n",
       "mean    49.500000 -1.395300e+01  1.906000e+00 -2.334000e+00  3.238000e+00   \n",
       "std     29.011492  5.355917e-15  2.231632e-16  4.463264e-16  4.463264e-16   \n",
       "min      0.000000 -1.395300e+01  1.906000e+00 -2.334000e+00  3.238000e+00   \n",
       "25%     24.750000 -1.395300e+01  1.906000e+00 -2.334000e+00  3.238000e+00   \n",
       "50%     49.500000 -1.395300e+01  1.906000e+00 -2.334000e+00  3.238000e+00   \n",
       "75%     74.250000 -1.395300e+01  1.906000e+00 -2.334000e+00  3.238000e+00   \n",
       "max     99.000000 -1.395300e+01  1.906000e+00 -2.334000e+00  3.238000e+00   \n",
       "\n",
       "               pA          pb          pc            pm          umax  \\\n",
       "count  100.000000  100.000000  100.000000  1.000000e+02  1.000000e+02   \n",
       "mean     0.000245    0.000249    0.035538  9.698820e-01  1.678416e+06   \n",
       "std      0.000000    0.000162    0.002587  1.115816e-16  4.680072e-10   \n",
       "min      0.000245    0.000010    0.029800  9.698820e-01  1.678416e+06   \n",
       "25%      0.000245    0.000144    0.033872  9.698820e-01  1.678416e+06   \n",
       "50%      0.000245    0.000164    0.036954  9.698820e-01  1.678416e+06   \n",
       "75%      0.000245    0.000347    0.037499  9.698820e-01  1.678416e+06   \n",
       "max      0.000245    0.000590    0.037579  9.698820e-01  1.678416e+06   \n",
       "\n",
       "               nl         eLJ            uc           cost  \n",
       "count  100.000000  100.000000  1.000000e+02     100.000000  \n",
       "mean     2.956759   19.999999  5.000000e-01  128467.245313  \n",
       "std      0.001840    0.000000  5.579081e-17     259.541341  \n",
       "min      2.954426   19.999999  5.000000e-01  128296.281250  \n",
       "25%      2.955099   19.999999  5.000000e-01  128298.095703  \n",
       "50%      2.956442   19.999999  5.000000e-01  128310.429688  \n",
       "75%      2.958041   19.999999  5.000000e-01  128585.939453  \n",
       "max      2.960273   19.999999  5.000000e-01  129267.085938  "
      ]
     },
     "execution_count": 20,
     "metadata": {},
     "output_type": "execute_result"
    }
   ],
   "source": [
    "df_params.describe()"
   ]
  },
  {
   "cell_type": "code",
   "execution_count": 21,
   "metadata": {},
   "outputs": [
    {
     "data": {
      "text/html": [
       "<div>\n",
       "<style scoped>\n",
       "    .dataframe tbody tr th:only-of-type {\n",
       "        vertical-align: middle;\n",
       "    }\n",
       "\n",
       "    .dataframe tbody tr th {\n",
       "        vertical-align: top;\n",
       "    }\n",
       "\n",
       "    .dataframe thead th {\n",
       "        text-align: right;\n",
       "    }\n",
       "</style>\n",
       "<table border=\"1\" class=\"dataframe\">\n",
       "  <thead>\n",
       "    <tr style=\"text-align: right;\">\n",
       "      <th></th>\n",
       "      <th>step</th>\n",
       "      <th>cost</th>\n",
       "    </tr>\n",
       "  </thead>\n",
       "  <tbody>\n",
       "    <tr>\n",
       "      <th>95</th>\n",
       "      <td>95.0</td>\n",
       "      <td>128296.750000</td>\n",
       "    </tr>\n",
       "    <tr>\n",
       "      <th>96</th>\n",
       "      <td>96.0</td>\n",
       "      <td>128296.726562</td>\n",
       "    </tr>\n",
       "    <tr>\n",
       "      <th>97</th>\n",
       "      <td>97.0</td>\n",
       "      <td>128296.687500</td>\n",
       "    </tr>\n",
       "    <tr>\n",
       "      <th>98</th>\n",
       "      <td>98.0</td>\n",
       "      <td>128296.726562</td>\n",
       "    </tr>\n",
       "    <tr>\n",
       "      <th>99</th>\n",
       "      <td>99.0</td>\n",
       "      <td>128296.750000</td>\n",
       "    </tr>\n",
       "  </tbody>\n",
       "</table>\n",
       "</div>"
      ],
      "text/plain": [
       "    step           cost\n",
       "95  95.0  128296.750000\n",
       "96  96.0  128296.726562\n",
       "97  97.0  128296.687500\n",
       "98  98.0  128296.726562\n",
       "99  99.0  128296.750000"
      ]
     },
     "execution_count": 21,
     "metadata": {},
     "output_type": "execute_result"
    }
   ],
   "source": [
    "df_cost = df_params[['step','cost']]\n",
    "df_cost.tail()"
   ]
  },
  {
   "cell_type": "code",
   "execution_count": 22,
   "metadata": {},
   "outputs": [
    {
     "data": {
      "text/plain": [
       "<matplotlib.axes._subplots.AxesSubplot at 0x121020a90>"
      ]
     },
     "execution_count": 22,
     "metadata": {},
     "output_type": "execute_result"
    },
    {
     "data": {
      "image/png": "[encoded data removed]",
      "text/plain": [
       "<matplotlib.figure.Figure at 0x11f81c710>"
      ]
     },
     "metadata": {},
     "output_type": "display_data"
    }
   ],
   "source": [
    "df_cost.plot(kind='line',x='step',y='cost')"
   ]
  },
  {
   "cell_type": "code",
   "execution_count": 23,
   "metadata": {},
   "outputs": [
    {
     "data": {
      "text/plain": [
       "<matplotlib.axes._subplots.AxesSubplot at 0x105c3e6d8>"
      ]
     },
     "execution_count": 23,
     "metadata": {},
     "output_type": "execute_result"
    },
    {
     "data": {
      "image/png": "[encoded data removed]",
      "text/plain": [
       "<matplotlib.figure.Figure at 0x105c59198>"
      ]
     },
     "metadata": {},
     "output_type": "display_data"
    }
   ],
   "source": [
    "df_params.plot(kind='line',x='step',y='nl')"
   ]
  },
  {
   "cell_type": "code",
   "execution_count": 24,
   "metadata": {},
   "outputs": [
    {
     "data": {
      "text/plain": [
       "<matplotlib.axes._subplots.AxesSubplot at 0x105c59128>"
      ]
     },
     "execution_count": 24,
     "metadata": {},
     "output_type": "execute_result"
    },
    {
     "data": {
      "image/png": "[encoded data removed]",
      "text/plain": [
       "<matplotlib.figure.Figure at 0x11b1b1400>"
      ]
     },
     "metadata": {},
     "output_type": "display_data"
    }
   ],
   "source": [
    "df_params.plot(kind='line',x='step',y='pb')"
   ]
  },
  {
   "cell_type": "code",
   "execution_count": 25,
   "metadata": {},
   "outputs": [
    {
     "data": {
      "text/plain": [
       "<matplotlib.axes._subplots.AxesSubplot at 0x122aa1400>"
      ]
     },
     "execution_count": 25,
     "metadata": {},
     "output_type": "execute_result"
    },
    {
     "data": {
      "image/png": "[encoded data removed]",
      "text/plain": [
       "<matplotlib.figure.Figure at 0x11f6ec518>"
      ]
     },
     "metadata": {},
     "output_type": "display_data"
    }
   ],
   "source": [
    "df_params.plot(kind='line',x='step',y='pc')"
   ]
  },
  {
   "cell_type": "code",
   "execution_count": 26,
   "metadata": {},
   "outputs": [
    {
     "name": "stdout",
     "output_type": "stream",
     "text": [
      "----- End of optimization --------\n",
      "best x:  uBA = -13.952999662399291 sbA = 1.90600006814003 uBB = -2.3340000610828397 sbB = 3.2379999492645264 pA = 0.000245 pb =  0.00012045118 pc = 0.030114807 pm =  0.969882 umax =  1678415.5756965424 nl =  2.96014 eLJ =  19.9999989692688 uc =  0.4999999884366989 cost = 128296.28\n"
     ]
    }
   ],
   "source": [
    "tf_parameters = ['step', 'uBA','sbA','uBB','sbB','pA','pb','pc', 'pm','umax','nl',\n",
    "                 'eLJ','uc','cost']\n",
    "df_params = pd.DataFrame(columns = tf_parameters)\n",
    "\n",
    "optimizer = tf.train.AdamOptimizer(2.e-4)\n",
    "\n",
    "train = optimizer.minimize(cost)\n",
    "\n",
    "init = tf.global_variables_initializer()\n",
    "\n",
    "gradient_cost = optimizer.compute_gradients(cost)\n",
    "\n",
    "\n",
    "with tf.Session() as sess:\n",
    "    \n",
    "    sess.run(init)\n",
    "    ll = sess.run(cost)\n",
    "\n",
    "    best_loss = ll\n",
    "    best_ubA = sess.run(params['UBA'])\n",
    "    best_sbA = sess.run(params['SIGBA'])\n",
    "    best_ubB = sess.run(params['UBB'])\n",
    "    best_sbB = sess.run(params['SIGBB'])\n",
    "    best_pA = sess.run(params['PA'])\n",
    "    best_pb = sess.run(params['PB'])\n",
    "    best_pc = sess.run(params['PC'])\n",
    "    best_nl = sess.run(params['NL'])\n",
    "    best_elj = sess.run(params['E'])\n",
    "    best_uc = sess.run(params['UC'])   \n",
    "    for step in range(100):\n",
    "        sess.run(train)\n",
    "        ll = sess.run(cost)\n",
    "        lubA = sess.run(params['UBA'])\n",
    "        lsbA = sess.run(params['SIGBA'])\n",
    "        lubB = sess.run(params['UBB'])\n",
    "        lsbB = sess.run(params['SIGBB'])\n",
    "        lpA =  sess.run(params['PA'])\n",
    "        lpb = sess.run(params['PB'])\n",
    "        lpc = sess.run(params['PC'])\n",
    "        lnl = sess.run(params['NL'])\n",
    "        lelj = sess.run(params['E'])\n",
    "        luc = sess.run(params['UC'])                     \n",
    "        if( ll < best_loss ):\n",
    "            best_loss = ll\n",
    "            best_ubA = lubA\n",
    "            best_sbA = lsbA\n",
    "            best_ubB = lubB\n",
    "            best_sbB = lsbB\n",
    "            best_pA = lpA\n",
    "            best_pb = lpb\n",
    "            best_pc = lpc\n",
    "            best_nl = lnl\n",
    "            best_elj = lelj\n",
    "            best_uc = luc\n",
    "      \n",
    "        df_params = df_params.append({'step':step,'uBA':lubA*kT,'sbA':lsbA*kT,\n",
    "                                           'uBB':lubB*kT,'sbB':lsbB*kT,'pA':lpA,'pb':lpb,\n",
    "                                           'pc':lpc,'pm':1.0-pb-pc,'umax':umax,'nl':lnl,'eLJ':lelj*kT,\n",
    "                                           'uc':luc*kT,'cost':ll},ignore_index=True)\n",
    "\n",
    "    print(\"----- End of optimization --------\");\n",
    "    print(\"best\", \"x:\", \" uBA =\", best_ubA*kT, \"sbA =\", best_sbA*kT, \"uBB =\", best_ubB*kT, \"sbB =\", best_sbB*kT, \"pA =\", best_pA, \"pb = \", best_pb, \"pc =\", best_pc, \"pm = \", 1.0-pb-pc, \"umax = \", umax, \"nl = \", best_nl, \"eLJ = \", best_elj*kT, \"uc = \", best_uc*kT, \"cost =\", best_loss)\n",
    "\n"
   ]
  },
  {
   "cell_type": "code",
   "execution_count": 27,
   "metadata": {},
   "outputs": [
    {
     "data": {
      "text/plain": [
       "<matplotlib.axes._subplots.AxesSubplot at 0x122b137f0>"
      ]
     },
     "execution_count": 27,
     "metadata": {},
     "output_type": "execute_result"
    },
    {
     "data": {
      "image/png": "[encoded data removed]",
      "text/plain": [
       "<matplotlib.figure.Figure at 0x11f726a20>"
      ]
     },
     "metadata": {},
     "output_type": "display_data"
    }
   ],
   "source": [
    "df_params.plot(kind='line',x='step',y='nl')"
   ]
  },
  {
   "cell_type": "code",
   "execution_count": 28,
   "metadata": {},
   "outputs": [
    {
     "data": {
      "text/plain": [
       "<matplotlib.axes._subplots.AxesSubplot at 0x11fd9d710>"
      ]
     },
     "execution_count": 28,
     "metadata": {},
     "output_type": "execute_result"
    },
    {
     "data": {
      "image/png": "[encoded data removed]",
      "text/plain": [
       "<matplotlib.figure.Figure at 0x11f46f3c8>"
      ]
     },
     "metadata": {},
     "output_type": "display_data"
    }
   ],
   "source": [
    "df_params.plot(kind='line',x='step',y='cost')"
   ]
  },
  {
   "cell_type": "code",
   "execution_count": null,
   "metadata": {},
   "outputs": [],
   "source": []
  }
 ],
 "metadata": {
  "kernelspec": {
   "display_name": "Python 3",
   "language": "python",
   "name": "python3"
  },
  "language_info": {
   "codemirror_mode": {
    "name": "ipython",
    "version": 3
   },
   "file_extension": ".py",
   "mimetype": "text/x-python",
   "name": "python",
   "nbconvert_exporter": "python",
   "pygments_lexer": "ipython3",
   "version": "3.6.4"
  }
 },
 "nbformat": 4,
 "nbformat_minor": 2
}
